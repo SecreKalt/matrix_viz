{
 "cells": [
  {
   "cell_type": "code",
   "execution_count": 1,
   "metadata": {},
   "outputs": [],
   "source": [
    "import sys\n",
    "sys.path.append('..')\n",
    "from src.visualization.vector_plots import create_vector_plot\n",
    "import numpy as np\n",
    "import plotly.graph_objects as go\n",
    "import ipywidgets as widgets"
   ]
  },
  {
   "cell_type": "code",
   "execution_count": 2,
   "metadata": {},
   "outputs": [
    {
     "data": {
      "application/vnd.jupyter.widget-view+json": {
       "model_id": "933265b3718247d58d1a2782743f5cc7",
       "version_major": 2,
       "version_minor": 0
      },
      "text/plain": [
       "VBox(children=(FloatSlider(value=1.0, description='Länge:', max=5.0), FloatSlider(value=0.0, description='Wink…"
      ]
     },
     "metadata": {},
     "output_type": "display_data"
    }
   ],
   "source": [
    "import sys\n",
    "sys.path.append('..')\n",
    "import numpy as np\n",
    "import plotly.graph_objects as go\n",
    "import ipywidgets as widgets\n",
    "from IPython.display import display\n",
    "\n",
    "# Figur EINMAL erstellen\n",
    "fig = go.FigureWidget()\n",
    "\n",
    "# Slider EINMAL definieren\n",
    "magnitude_slider = widgets.FloatSlider(\n",
    "    value=1,\n",
    "    min=0,\n",
    "    max=5,\n",
    "    step=0.1,\n",
    "    description='Länge:'\n",
    ")\n",
    "\n",
    "angle_slider = widgets.FloatSlider(\n",
    "    value=0,\n",
    "    min=0,\n",
    "    max=360,\n",
    "    step=1,\n",
    "    description='Winkel:'\n",
    ")\n",
    "\n",
    "# Optimierte Update-Funktion\n",
    "def update_plot(*args):\n",
    "    x = magnitude_slider.value * np.cos(np.radians(angle_slider.value))\n",
    "    y = magnitude_slider.value * np.sin(np.radians(angle_slider.value))\n",
    "    \n",
    "    with fig.batch_update():\n",
    "        # Nur Vektor aktualisieren, Achsen bleiben bestehen\n",
    "        if len(fig.data) == 0:\n",
    "            # Erstmalige Erstellung\n",
    "            fig.add_scatter(x=[0, x], y=[0, y], mode='lines+markers',\n",
    "                          name='Vektor')\n",
    "            fig.add_scatter(x=[-5, 5], y=[0, 0], mode='lines',\n",
    "                          line=dict(color='gray', dash='dash'), showlegend=False)\n",
    "            fig.add_scatter(x=[0, 0], y=[-5, 5], mode='lines',\n",
    "                          line=dict(color='gray', dash='dash'), showlegend=False)\n",
    "        else:\n",
    "            # Nur Vektor aktualisieren\n",
    "            fig.data[0].x = [0, x]\n",
    "            fig.data[0].y = [0, y]\n",
    "            fig.data[0].name = f'Vektor ({x:.1f}, {y:.1f})'\n",
    "        \n",
    "        fig.update_layout(\n",
    "            title='2D Vektor Visualisierung',\n",
    "            xaxis=dict(range=[-5, 5], zerolinecolor='gray'),\n",
    "            yaxis=dict(range=[-5, 5], zerolinecolor='gray'),\n",
    "            showlegend=True\n",
    "        )\n",
    "\n",
    "# Slider mit Update-Funktion verbinden\n",
    "magnitude_slider.observe(update_plot, names='value')\n",
    "angle_slider.observe(update_plot, names='value')\n",
    "\n",
    "# Layout erstellen und anzeigen\n",
    "container = widgets.VBox([magnitude_slider, angle_slider, fig])\n",
    "display(container)\n",
    "\n",
    "# Initiale Darstellung\n",
    "update_plot()"
   ]
  }
 ],
 "metadata": {
  "kernelspec": {
   "display_name": "matrix_viz",
   "language": "python",
   "name": "python3"
  },
  "language_info": {
   "codemirror_mode": {
    "name": "ipython",
    "version": 3
   },
   "file_extension": ".py",
   "mimetype": "text/x-python",
   "name": "python",
   "nbconvert_exporter": "python",
   "pygments_lexer": "ipython3",
   "version": "3.11.10"
  }
 },
 "nbformat": 4,
 "nbformat_minor": 2
}
