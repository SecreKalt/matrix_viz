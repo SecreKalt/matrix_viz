{
 "cells": [
  {
   "cell_type": "code",
   "execution_count": 2,
   "metadata": {},
   "outputs": [
    {
     "data": {
      "application/vnd.jupyter.widget-view+json": {
       "model_id": "9dc8c83b422f4bd8b227364f6e6b32e7",
       "version_major": 2,
       "version_minor": 0
      },
      "text/plain": [
       "VBox(children=(HBox(children=(VBox(children=(HTML(value='Matrix:'), VBox(children=(HBox(children=(FloatText(va…"
      ]
     },
     "metadata": {},
     "output_type": "display_data"
    }
   ],
   "source": [
    "import sys\n",
    "sys.path.append('..')\n",
    "import numpy as np\n",
    "import plotly.graph_objects as go\n",
    "import ipywidgets as widgets\n",
    "from IPython.display import display\n",
    "\n",
    "# Figur EINMAL erstellen\n",
    "fig = go.FigureWidget()\n",
    "\n",
    "# Matrix-Eingabe Widgets\n",
    "matrix_widgets = [[widgets.FloatText(value=1.0) for _ in range(2)] for _ in range(2)]\n",
    "vector_widgets = [widgets.FloatText(value=1.0) for _ in range(2)]\n",
    "\n",
    "def update_transformation(*args):\n",
    "    matrix = np.array([[w.value for w in row] for row in matrix_widgets])\n",
    "    vector = np.array([w.value for w in vector_widgets])\n",
    "    transformed_vector = np.dot(matrix, vector)\n",
    "    \n",
    "    with fig.batch_update():\n",
    "        if len(fig.data) == 0:\n",
    "            # Original Vektor\n",
    "            fig.add_scatter(x=[0, vector[0]], y=[0, vector[1]],\n",
    "                          mode='lines+markers', name='Original',\n",
    "                          line=dict(color='blue'))\n",
    "            # Transformierter Vektor\n",
    "            fig.add_scatter(x=[0, transformed_vector[0]], \n",
    "                          y=[0, transformed_vector[1]],\n",
    "                          mode='lines+markers', name='Transformiert',\n",
    "                          line=dict(color='red'))\n",
    "        else:\n",
    "            # Vektoren aktualisieren\n",
    "            fig.data[0].x = [0, vector[0]]\n",
    "            fig.data[0].y = [0, vector[1]]\n",
    "            fig.data[1].x = [0, transformed_vector[0]]\n",
    "            fig.data[1].y = [0, transformed_vector[1]]\n",
    "        \n",
    "        max_range = max(abs(np.array([vector, transformed_vector]).flatten())) * 1.2\n",
    "        fig.update_layout(\n",
    "            title='Matrix Transformation',\n",
    "            xaxis=dict(range=[-max_range, max_range]),\n",
    "            yaxis=dict(range=[-max_range, max_range]),\n",
    "            showlegend=True\n",
    "        )\n",
    "\n",
    "# Layout erstellen\n",
    "matrix_box = widgets.VBox([widgets.HBox(row) for row in matrix_widgets])\n",
    "vector_box = widgets.VBox(vector_widgets)\n",
    "update_button = widgets.Button(description='Aktualisieren')\n",
    "update_button.on_click(update_transformation)\n",
    "\n",
    "container = widgets.VBox([\n",
    "    widgets.HBox([\n",
    "        widgets.VBox([widgets.HTML('Matrix:'), matrix_box]),\n",
    "        widgets.VBox([widgets.HTML('Vektor:'), vector_box])\n",
    "    ]),\n",
    "    update_button,\n",
    "    fig\n",
    "])\n",
    "display(container)\n",
    "\n",
    "# Initiale Darstellung\n",
    "update_transformation()"
   ]
  }
 ],
 "metadata": {
  "kernelspec": {
   "display_name": "matrix_viz",
   "language": "python",
   "name": "python3"
  },
  "language_info": {
   "codemirror_mode": {
    "name": "ipython",
    "version": 3
   },
   "file_extension": ".py",
   "mimetype": "text/x-python",
   "name": "python",
   "nbconvert_exporter": "python",
   "pygments_lexer": "ipython3",
   "version": "3.11.10"
  }
 },
 "nbformat": 4,
 "nbformat_minor": 2
}
